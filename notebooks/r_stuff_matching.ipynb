{
 "cells": [
  {
   "cell_type": "markdown",
   "metadata": {},
   "source": [
    "# treat: Institution / contr: Individual"
   ]
  },
  {
   "cell_type": "code",
   "execution_count": 1,
   "metadata": {},
   "outputs": [],
   "source": [
    "path <- \"/dlabdata1/gligoric/Coronatwitter/\"\n",
    "suffix <- \"treat_institution_contr_individual.csv\""
   ]
  },
  {
   "cell_type": "code",
   "execution_count": 2,
   "metadata": {},
   "outputs": [
    {
     "name": "stderr",
     "output_type": "stream",
     "text": [
      "Warning message in ModuleReturnVarsExist(vars, data):\n",
      "“The data frame does not have: majority_vote_category  Dropped”\n",
      "Warning message in ModuleReturnVarsExist(factorVars, data):\n",
      "“The data frame does not have: majority_vote_category  Dropped”\n"
     ]
    },
    {
     "data": {
      "text/html": [
       "<table>\n",
       "<thead><tr><th></th><th scope=col>False</th><th scope=col>True</th><th scope=col>p</th><th scope=col>test</th><th scope=col>SMD</th></tr></thead>\n",
       "<tbody>\n",
       "\t<tr><th scope=row>n</th><td>1942                </td><td>1942                </td><td>                    </td><td>                    </td><td>                    </td></tr>\n",
       "\t<tr><th scope=row>treat = True (%)</th><td><span style=white-space:pre-wrap>0 (0.0)             </span></td><td><span style=white-space:pre-wrap>1942 (100.0)        </span></td><td>&lt;0.001                                                   </td><td>                                                            </td><td><span style=white-space:pre-wrap>NaN  </span>               </td></tr>\n",
       "\t<tr><th scope=row>n_followers (mean (SD))</th><td>66807.77 (244912.08)</td><td>91755.24 (783281.28)</td><td>0.180               </td><td>                    </td><td>0.043               </td></tr>\n",
       "\t<tr><th scope=row>num_tweets (mean (SD))</th><td>11.29 (26.15)       </td><td>10.82 (47.79)       </td><td>0.700               </td><td>                    </td><td>0.012               </td></tr>\n",
       "\t<tr><th scope=row>num_retweets (mean (SD))</th><td>87.94 (267.98)      </td><td>68.43 (468.57)      </td><td>0.111               </td><td>                    </td><td>0.051               </td></tr>\n",
       "\t<tr><th scope=row>top1 = True (%)</th><td><span style=white-space:pre-wrap>198 (10.2)          </span></td><td><span style=white-space:pre-wrap>80 (4.1)            </span></td><td>&lt;0.001                                                   </td><td>                                                            </td><td>0.237                                                       </td></tr>\n",
       "\t<tr><th scope=row>n_covid_tweeting_language (%)</th><td>                    </td><td>                    </td><td>0.026               </td><td>                    </td><td>0.128               </td></tr>\n",
       "\t<tr><th scope=row>   ar</th><td>272 (14.0)          </td><td>251 (12.9)          </td><td>                    </td><td>                    </td><td>                    </td></tr>\n",
       "\t<tr><th scope=row>   de</th><td>185 (9.5)           </td><td>230 (11.8)          </td><td>                    </td><td>                    </td><td>                    </td></tr>\n",
       "\t<tr><th scope=row>   en</th><td>342 (17.6)          </td><td>338 (17.4)          </td><td>                    </td><td>                    </td><td>                    </td></tr>\n",
       "\t<tr><th scope=row>   es</th><td>223 (11.5)          </td><td>234 (12.0)          </td><td>                    </td><td>                    </td><td>                    </td></tr>\n",
       "\t<tr><th scope=row>   fr</th><td>266 (13.7)          </td><td>228 (11.7)          </td><td>                    </td><td>                    </td><td>                    </td></tr>\n",
       "\t<tr><th scope=row>   it</th><td>223 (11.5)          </td><td>203 (10.5)          </td><td>                    </td><td>                    </td><td>                    </td></tr>\n",
       "\t<tr><th scope=row>   ja</th><td>282 (14.5)          </td><td>332 (17.1)          </td><td>                    </td><td>                    </td><td>                    </td></tr>\n",
       "\t<tr><th scope=row>   pt</th><td>149 (7.7)           </td><td>126 (6.5)           </td><td>                    </td><td>                    </td><td>                    </td></tr>\n",
       "</tbody>\n",
       "</table>\n"
      ],
      "text/latex": [
       "\\begin{tabular}{r|lllll}\n",
       "  & False & True & p & test & SMD\\\\\n",
       "\\hline\n",
       "\tn & 1942                 & 1942                 &                      &                      &                     \\\\\n",
       "\ttreat = True (\\%) & 0 (0.0)              & 1942 (100.0)         & <0.001               &                      & NaN                 \\\\\n",
       "\tn\\_followers (mean (SD)) & 66807.77 (244912.08) & 91755.24 (783281.28) & 0.180                &                      & 0.043               \\\\\n",
       "\tnum\\_tweets (mean (SD)) & 11.29 (26.15)        & 10.82 (47.79)        & 0.700                &                      & 0.012               \\\\\n",
       "\tnum\\_retweets (mean (SD)) & 87.94 (267.98)       & 68.43 (468.57)       & 0.111                &                      & 0.051               \\\\\n",
       "\ttop1 = True (\\%) & 198 (10.2)           & 80 (4.1)             & <0.001               &                      & 0.237               \\\\\n",
       "\tn\\_covid\\_tweeting\\_language (\\%) &                      &                      & 0.026                &                      & 0.128               \\\\\n",
       "\t   ar & 272 (14.0)           & 251 (12.9)           &                      &                      &                     \\\\\n",
       "\t   de & 185 (9.5)            & 230 (11.8)           &                      &                      &                     \\\\\n",
       "\t   en & 342 (17.6)           & 338 (17.4)           &                      &                      &                     \\\\\n",
       "\t   es & 223 (11.5)           & 234 (12.0)           &                      &                      &                     \\\\\n",
       "\t   fr & 266 (13.7)           & 228 (11.7)           &                      &                      &                     \\\\\n",
       "\t   it & 223 (11.5)           & 203 (10.5)           &                      &                      &                     \\\\\n",
       "\t   ja & 282 (14.5)           & 332 (17.1)           &                      &                      &                     \\\\\n",
       "\t   pt & 149 (7.7)            & 126 (6.5)            &                      &                      &                     \\\\\n",
       "\\end{tabular}\n"
      ],
      "text/markdown": [
       "\n",
       "| <!--/--> | False | True | p | test | SMD |\n",
       "|---|---|---|---|---|---|\n",
       "| n | 1942                 | 1942                 |                      |                      |                      |\n",
       "| treat = True (%) | 0 (0.0)              | 1942 (100.0)         | <0.001               |                      | NaN                  |\n",
       "| n_followers (mean (SD)) | 66807.77 (244912.08) | 91755.24 (783281.28) | 0.180                |                      | 0.043                |\n",
       "| num_tweets (mean (SD)) | 11.29 (26.15)        | 10.82 (47.79)        | 0.700                |                      | 0.012                |\n",
       "| num_retweets (mean (SD)) | 87.94 (267.98)       | 68.43 (468.57)       | 0.111                |                      | 0.051                |\n",
       "| top1 = True (%) | 198 (10.2)           | 80 (4.1)             | <0.001               |                      | 0.237                |\n",
       "| n_covid_tweeting_language (%) |                      |                      | 0.026                |                      | 0.128                |\n",
       "|    ar | 272 (14.0)           | 251 (12.9)           |                      |                      |                      |\n",
       "|    de | 185 (9.5)            | 230 (11.8)           |                      |                      |                      |\n",
       "|    en | 342 (17.6)           | 338 (17.4)           |                      |                      |                      |\n",
       "|    es | 223 (11.5)           | 234 (12.0)           |                      |                      |                      |\n",
       "|    fr | 266 (13.7)           | 228 (11.7)           |                      |                      |                      |\n",
       "|    it | 223 (11.5)           | 203 (10.5)           |                      |                      |                      |\n",
       "|    ja | 282 (14.5)           | 332 (17.1)           |                      |                      |                      |\n",
       "|    pt | 149 (7.7)            | 126 (6.5)            |                      |                      |                      |\n",
       "\n"
      ],
      "text/plain": [
       "                               Stratified by treat\n",
       "                                False                True                \n",
       "  n                             1942                 1942                \n",
       "  treat = True (%)              0 (0.0)              1942 (100.0)        \n",
       "  n_followers (mean (SD))       66807.77 (244912.08) 91755.24 (783281.28)\n",
       "  num_tweets (mean (SD))        11.29 (26.15)        10.82 (47.79)       \n",
       "  num_retweets (mean (SD))      87.94 (267.98)       68.43 (468.57)      \n",
       "  top1 = True (%)               198 (10.2)           80 (4.1)            \n",
       "  n_covid_tweeting_language (%)                                          \n",
       "     ar                         272 (14.0)           251 (12.9)          \n",
       "     de                         185 (9.5)            230 (11.8)          \n",
       "     en                         342 (17.6)           338 (17.4)          \n",
       "     es                         223 (11.5)           234 (12.0)          \n",
       "     fr                         266 (13.7)           228 (11.7)          \n",
       "     it                         223 (11.5)           203 (10.5)          \n",
       "     ja                         282 (14.5)           332 (17.1)          \n",
       "     pt                         149 (7.7)            126 (6.5)           \n",
       "                               Stratified by treat\n",
       "                                p      test SMD  \n",
       "  n                                              \n",
       "  treat = True (%)              <0.001      NaN  \n",
       "  n_followers (mean (SD))       0.180       0.043\n",
       "  num_tweets (mean (SD))        0.700       0.012\n",
       "  num_retweets (mean (SD))      0.111       0.051\n",
       "  top1 = True (%)               <0.001      0.237\n",
       "  n_covid_tweeting_language (%) 0.026       0.128\n",
       "     ar                                          \n",
       "     de                                          \n",
       "     en                                          \n",
       "     es                                          \n",
       "     fr                                          \n",
       "     it                                          \n",
       "     ja                                          \n",
       "     pt                                          "
      ]
     },
     "metadata": {},
     "output_type": "display_data"
    }
   ],
   "source": [
    "library(\"tableone\")\n",
    "dt <- read.csv(file=paste(path, 'df_matched_flat_', suffix, sep=\"\"))\n",
    "myVars <- c('treat', 'n_followers', 'num_tweets', 'num_retweets', 'top1', \n",
    "            'majority_vote_category', 'n_covid_tweeting_language')\n",
    "tabbefore <- CreateTableOne(vars = myVars,\n",
    "data = dt,\n",
    "strata = 'treat',\n",
    "factorVars = c('majority_vote_category', 'n_covid_tweeting_language'),\n",
    "smd = T)\n",
    "tabbefore <- print(tabbefore,\n",
    "printToggle = FALSE,\n",
    "noSpaces = TRUE, smd=TRUE,\n",
    ")\n",
    "tabbefore"
   ]
  },
  {
   "cell_type": "code",
   "execution_count": 8,
   "metadata": {
    "scrolled": false
   },
   "outputs": [
    {
     "name": "stdout",
     "output_type": "stream",
     "text": [
      "% latex table generated in R 3.6.1 by xtable 1.8-4 package\n",
      "% Sun Jul  5 21:35:11 2020\n",
      "\\begin{table}[ht]\n",
      "\\centering\n",
      "\\begin{tabular}{rlllll}\n",
      "  \\hline\n",
      " & False & True & p & test & SMD \\\\ \n",
      "  \\hline\n",
      "n & 1942 & 1942 &  &  &  \\\\ \n",
      "  treat = True (\\%) & 0 (0.0) & 1942 (100.0) & $<$0.001 &  & NaN \\\\ \n",
      "  n\\_followers (mean (SD)) & 66807.77 (244912.08) & 91755.24 (783281.28) & 0.180 &  & 0.043 \\\\ \n",
      "  num\\_tweets (mean (SD)) & 11.29 (26.15) & 10.82 (47.79) & 0.700 &  & 0.012 \\\\ \n",
      "  num\\_retweets (mean (SD)) & 87.94 (267.98) & 68.43 (468.57) & 0.111 &  & 0.051 \\\\ \n",
      "  top1 = True (\\%) & 198 (10.2) & 80 (4.1) & $<$0.001 &  & 0.237 \\\\ \n",
      "  n\\_covid\\_tweeting\\_language (\\%) &  &  & 0.026 &  & 0.128 \\\\ \n",
      "     ar & 272 (14.0) & 251 (12.9) &  &  &  \\\\ \n",
      "     de & 185 (9.5) & 230 (11.8) &  &  &  \\\\ \n",
      "     en & 342 (17.6) & 338 (17.4) &  &  &  \\\\ \n",
      "     es & 223 (11.5) & 234 (12.0) &  &  &  \\\\ \n",
      "     fr & 266 (13.7) & 228 (11.7) &  &  &  \\\\ \n",
      "     it & 223 (11.5) & 203 (10.5) &  &  &  \\\\ \n",
      "     ja & 282 (14.5) & 332 (17.1) &  &  &  \\\\ \n",
      "     pt & 149 (7.7) & 126 (6.5) &  &  &  \\\\ \n",
      "   \\hline\n",
      "\\end{tabular}\n",
      "\\end{table}\n"
     ]
    }
   ],
   "source": [
    "library(\"xtable\")\n",
    "\n",
    "print(xtable(tabbefore, type = \"latex\"))\n"
   ]
  },
  {
   "cell_type": "code",
   "execution_count": 3,
   "metadata": {},
   "outputs": [
    {
     "data": {
      "text/html": [
       "<dl>\n",
       "\t<dt>$pval</dt>\n",
       "\t\t<dd>0.119704938514497</dd>\n",
       "\t<dt>$deviate</dt>\n",
       "\t\t<dd>1.17646308111976</dd>\n",
       "\t<dt>$statistic</dt>\n",
       "\t\t<dd>124.83</dd>\n",
       "\t<dt>$expectation</dt>\n",
       "\t\t<dd>108.644810495628</dd>\n",
       "\t<dt>$variance</dt>\n",
       "\t\t<dd>189.268775047435</dd>\n",
       "</dl>\n"
      ],
      "text/latex": [
       "\\begin{description}\n",
       "\\item[\\$pval] 0.119704938514497\n",
       "\\item[\\$deviate] 1.17646308111976\n",
       "\\item[\\$statistic] 124.83\n",
       "\\item[\\$expectation] 108.644810495628\n",
       "\\item[\\$variance] 189.268775047435\n",
       "\\end{description}\n"
      ],
      "text/markdown": [
       "$pval\n",
       ":   0.119704938514497\n",
       "$deviate\n",
       ":   1.17646308111976\n",
       "$statistic\n",
       ":   124.83\n",
       "$expectation\n",
       ":   108.644810495628\n",
       "$variance\n",
       ":   189.268775047435\n",
       "\n",
       "\n"
      ],
      "text/plain": [
       "$pval\n",
       "[1] 0.1197049\n",
       "\n",
       "$deviate\n",
       "[1] 1.176463\n",
       "\n",
       "$statistic\n",
       "[1] 124.83\n",
       "\n",
       "$expectation\n",
       "[1] 108.6448\n",
       "\n",
       "$variance\n",
       "[1] 189.2688\n"
      ]
     },
     "metadata": {},
     "output_type": "display_data"
    }
   ],
   "source": [
    "library(sensitivitymv)\n",
    "dt <-  read.csv(paste(path, 'rts_matched_', suffix, sep=\"\"), header = TRUE)\n",
    "senmv(dt, gamma = 1.5725, method = NULL, inner = 0, trim = 2.5, lambda = 1/2, tau = 0, TonT=FALSE)"
   ]
  },
  {
   "cell_type": "code",
   "execution_count": 4,
   "metadata": {},
   "outputs": [],
   "source": [
    "path <- \"/dlabdata1/gligoric/Coronatwitter/\"\n",
    "suffix <- \"treat_Healthcare_contr_Other.csv\""
   ]
  },
  {
   "cell_type": "code",
   "execution_count": 5,
   "metadata": {},
   "outputs": [
    {
     "name": "stderr",
     "output_type": "stream",
     "text": [
      "Warning message in file(file, \"rt\"):\n",
      "“cannot open file '/dlabdata1/gligoric/Coronatwitter/df_matched_flat_treat_Healthcare_contr_Other.csv': No such file or directory”\n"
     ]
    },
    {
     "ename": "ERROR",
     "evalue": "Error in file(file, \"rt\"): cannot open the connection\n",
     "output_type": "error",
     "traceback": [
      "Error in file(file, \"rt\"): cannot open the connection\nTraceback:\n",
      "1. read.csv(file = paste(path, \"df_matched_flat_\", suffix, sep = \"\"))",
      "2. read.table(file = file, header = header, sep = sep, quote = quote, \n .     dec = dec, fill = fill, comment.char = comment.char, ...)",
      "3. file(file, \"rt\")"
     ]
    }
   ],
   "source": [
    "library(\"tableone\")\n",
    "dt <- read.csv(file=paste(path, 'df_matched_flat_', suffix, sep=\"\"))\n",
    "myVars <- c('treat', 'n_followers', 'num_tweets', 'num_retweets', 'top1', \n",
    "            'majority_vote_type', 'n_covid_tweeting_language')\n",
    "tabbefore <- CreateTableOne(vars = myVars,\n",
    "data = dt,\n",
    "strata = 'treat',\n",
    "factorVars = c('majority_vote_category', 'n_covid_tweeting_language'),\n",
    "smd = T)\n",
    "tabbefore <- print(tabbefore,\n",
    "printToggle = FALSE,\n",
    "noSpaces = TRUE, smd=TRUE,\n",
    ")\n",
    "tabbefore"
   ]
  },
  {
   "cell_type": "code",
   "execution_count": null,
   "metadata": {},
   "outputs": [],
   "source": []
  }
 ],
 "metadata": {
  "kernelspec": {
   "display_name": "R",
   "language": "R",
   "name": "ir"
  },
  "language_info": {
   "codemirror_mode": "r",
   "file_extension": ".r",
   "mimetype": "text/x-r-source",
   "name": "R",
   "pygments_lexer": "r",
   "version": "3.6.1"
  }
 },
 "nbformat": 4,
 "nbformat_minor": 4
}
